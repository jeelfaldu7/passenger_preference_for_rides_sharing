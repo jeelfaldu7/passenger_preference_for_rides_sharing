{
 "cells": [
  {
   "cell_type": "markdown",
   "metadata": {},
   "source": [
    "# \"Zuber Market Study: Chicago Ride Patterns\""
   ]
  },
  {
   "cell_type": "markdown",
   "metadata": {},
   "source": [
    "## Introduction"
   ]
  },
  {
   "cell_type": "markdown",
   "metadata": {},
   "source": [
    "The dataset analyzed for the project is from competitors of a new ride-sharing company, Zuber that is launching in Chicago. The task is to find and analyze patterns to understand passenger preferences and the impact of external factors of rides such as weather impact on ride frequency. "
   ]
  },
  {
   "cell_type": "markdown",
   "metadata": {},
   "source": [
    "## Data Overview"
   ]
  },
  {
   "cell_type": "code",
   "execution_count": 1,
   "metadata": {},
   "outputs": [],
   "source": [
    "# import necessary libraries\n",
    "import pandas as pd \n",
    "from matplotlib import pyplot as plt\n",
    "import seaborn as sns\n",
    "import numpy as np\n",
    "from scipy import stats as st"
   ]
  },
  {
   "cell_type": "markdown",
   "metadata": {},
   "source": [
    "### Load the Datasets"
   ]
  },
  {
   "cell_type": "code",
   "execution_count": 5,
   "metadata": {},
   "outputs": [],
   "source": [
    "company_trips = pd.read_csv('moved_project_sql_result_01.csv')\n",
    "trips_dropoff_locations = pd.read_csv('moved_project_sql_result_04.csv')\n",
    "weather_conditions_duration = pd.read_csv('moved_project_sql_result_07.csv')"
   ]
  },
  {
   "cell_type": "code",
   "execution_count": 8,
   "metadata": {},
   "outputs": [
    {
     "data": {
      "text/html": [
       "<div>\n",
       "<style scoped>\n",
       "    .dataframe tbody tr th:only-of-type {\n",
       "        vertical-align: middle;\n",
       "    }\n",
       "\n",
       "    .dataframe tbody tr th {\n",
       "        vertical-align: top;\n",
       "    }\n",
       "\n",
       "    .dataframe thead th {\n",
       "        text-align: right;\n",
       "    }\n",
       "</style>\n",
       "<table border=\"1\" class=\"dataframe\">\n",
       "  <thead>\n",
       "    <tr style=\"text-align: right;\">\n",
       "      <th></th>\n",
       "      <th>company_name</th>\n",
       "      <th>trips_amount</th>\n",
       "    </tr>\n",
       "  </thead>\n",
       "  <tbody>\n",
       "    <tr>\n",
       "      <th>0</th>\n",
       "      <td>Flash Cab</td>\n",
       "      <td>19558</td>\n",
       "    </tr>\n",
       "    <tr>\n",
       "      <th>1</th>\n",
       "      <td>Taxi Affiliation Services</td>\n",
       "      <td>11422</td>\n",
       "    </tr>\n",
       "    <tr>\n",
       "      <th>2</th>\n",
       "      <td>Medallion Leasin</td>\n",
       "      <td>10367</td>\n",
       "    </tr>\n",
       "    <tr>\n",
       "      <th>3</th>\n",
       "      <td>Yellow Cab</td>\n",
       "      <td>9888</td>\n",
       "    </tr>\n",
       "    <tr>\n",
       "      <th>4</th>\n",
       "      <td>Taxi Affiliation Service Yellow</td>\n",
       "      <td>9299</td>\n",
       "    </tr>\n",
       "  </tbody>\n",
       "</table>\n",
       "</div>"
      ],
      "text/plain": [
       "                      company_name  trips_amount\n",
       "0                        Flash Cab         19558\n",
       "1        Taxi Affiliation Services         11422\n",
       "2                 Medallion Leasin         10367\n",
       "3                       Yellow Cab          9888\n",
       "4  Taxi Affiliation Service Yellow          9299"
      ]
     },
     "metadata": {},
     "output_type": "display_data"
    },
    {
     "data": {
      "text/html": [
       "<div>\n",
       "<style scoped>\n",
       "    .dataframe tbody tr th:only-of-type {\n",
       "        vertical-align: middle;\n",
       "    }\n",
       "\n",
       "    .dataframe tbody tr th {\n",
       "        vertical-align: top;\n",
       "    }\n",
       "\n",
       "    .dataframe thead th {\n",
       "        text-align: right;\n",
       "    }\n",
       "</style>\n",
       "<table border=\"1\" class=\"dataframe\">\n",
       "  <thead>\n",
       "    <tr style=\"text-align: right;\">\n",
       "      <th></th>\n",
       "      <th>dropoff_location_name</th>\n",
       "      <th>average_trips</th>\n",
       "    </tr>\n",
       "  </thead>\n",
       "  <tbody>\n",
       "    <tr>\n",
       "      <th>0</th>\n",
       "      <td>Loop</td>\n",
       "      <td>10727.466667</td>\n",
       "    </tr>\n",
       "    <tr>\n",
       "      <th>1</th>\n",
       "      <td>River North</td>\n",
       "      <td>9523.666667</td>\n",
       "    </tr>\n",
       "    <tr>\n",
       "      <th>2</th>\n",
       "      <td>Streeterville</td>\n",
       "      <td>6664.666667</td>\n",
       "    </tr>\n",
       "    <tr>\n",
       "      <th>3</th>\n",
       "      <td>West Loop</td>\n",
       "      <td>5163.666667</td>\n",
       "    </tr>\n",
       "    <tr>\n",
       "      <th>4</th>\n",
       "      <td>O'Hare</td>\n",
       "      <td>2546.900000</td>\n",
       "    </tr>\n",
       "  </tbody>\n",
       "</table>\n",
       "</div>"
      ],
      "text/plain": [
       "  dropoff_location_name  average_trips\n",
       "0                  Loop   10727.466667\n",
       "1           River North    9523.666667\n",
       "2         Streeterville    6664.666667\n",
       "3             West Loop    5163.666667\n",
       "4                O'Hare    2546.900000"
      ]
     },
     "metadata": {},
     "output_type": "display_data"
    },
    {
     "data": {
      "text/html": [
       "<div>\n",
       "<style scoped>\n",
       "    .dataframe tbody tr th:only-of-type {\n",
       "        vertical-align: middle;\n",
       "    }\n",
       "\n",
       "    .dataframe tbody tr th {\n",
       "        vertical-align: top;\n",
       "    }\n",
       "\n",
       "    .dataframe thead th {\n",
       "        text-align: right;\n",
       "    }\n",
       "</style>\n",
       "<table border=\"1\" class=\"dataframe\">\n",
       "  <thead>\n",
       "    <tr style=\"text-align: right;\">\n",
       "      <th></th>\n",
       "      <th>start_ts</th>\n",
       "      <th>weather_conditions</th>\n",
       "      <th>duration_seconds</th>\n",
       "    </tr>\n",
       "  </thead>\n",
       "  <tbody>\n",
       "    <tr>\n",
       "      <th>0</th>\n",
       "      <td>2017-11-25 16:00:00</td>\n",
       "      <td>Good</td>\n",
       "      <td>2410.0</td>\n",
       "    </tr>\n",
       "    <tr>\n",
       "      <th>1</th>\n",
       "      <td>2017-11-25 14:00:00</td>\n",
       "      <td>Good</td>\n",
       "      <td>1920.0</td>\n",
       "    </tr>\n",
       "    <tr>\n",
       "      <th>2</th>\n",
       "      <td>2017-11-25 12:00:00</td>\n",
       "      <td>Good</td>\n",
       "      <td>1543.0</td>\n",
       "    </tr>\n",
       "    <tr>\n",
       "      <th>3</th>\n",
       "      <td>2017-11-04 10:00:00</td>\n",
       "      <td>Good</td>\n",
       "      <td>2512.0</td>\n",
       "    </tr>\n",
       "    <tr>\n",
       "      <th>4</th>\n",
       "      <td>2017-11-11 07:00:00</td>\n",
       "      <td>Good</td>\n",
       "      <td>1440.0</td>\n",
       "    </tr>\n",
       "  </tbody>\n",
       "</table>\n",
       "</div>"
      ],
      "text/plain": [
       "              start_ts weather_conditions  duration_seconds\n",
       "0  2017-11-25 16:00:00               Good            2410.0\n",
       "1  2017-11-25 14:00:00               Good            1920.0\n",
       "2  2017-11-25 12:00:00               Good            1543.0\n",
       "3  2017-11-04 10:00:00               Good            2512.0\n",
       "4  2017-11-11 07:00:00               Good            1440.0"
      ]
     },
     "metadata": {},
     "output_type": "display_data"
    }
   ],
   "source": [
    "# Display the first few rows of the dataframes\n",
    "display(company_trips.head())\n",
    "display(trips_dropoff_locations.head())\n",
    "display(weather_conditions_duration.head())"
   ]
  },
  {
   "cell_type": "markdown",
   "metadata": {},
   "source": [
    "## Exploratory Data Analysis"
   ]
  },
  {
   "cell_type": "markdown",
   "metadata": {},
   "source": [
    "### Data preprocessing"
   ]
  },
  {
   "cell_type": "markdown",
   "metadata": {},
   "source": [
    "#### Column Names"
   ]
  },
  {
   "cell_type": "code",
   "execution_count": 9,
   "metadata": {},
   "outputs": [
    {
     "data": {
      "text/plain": [
       "['company_name', 'trips_amount']"
      ]
     },
     "metadata": {},
     "output_type": "display_data"
    }
   ],
   "source": [
    "# Display the column names of the company_trips dataframe\n",
    "column_names = company_trips.columns.tolist()\n",
    "display(column_names)"
   ]
  },
  {
   "cell_type": "code",
   "execution_count": 10,
   "metadata": {},
   "outputs": [
    {
     "data": {
      "text/plain": [
       "['dropoff_location_name', 'average_trips']"
      ]
     },
     "metadata": {},
     "output_type": "display_data"
    }
   ],
   "source": [
    "# Display the column names of the trips_dropoff_locations dataframe\n",
    "column_names = trips_dropoff_locations.columns.tolist()\n",
    "display(column_names)"
   ]
  },
  {
   "cell_type": "code",
   "execution_count": 11,
   "metadata": {},
   "outputs": [
    {
     "data": {
      "text/plain": [
       "['start_ts', 'weather_conditions', 'duration_seconds']"
      ]
     },
     "metadata": {},
     "output_type": "display_data"
    }
   ],
   "source": [
    "# Display the column names of the weather_conditions_duration dataframe\n",
    "column_names = weather_conditions_duration.columns.tolist()\n",
    "display(column_names)"
   ]
  },
  {
   "cell_type": "markdown",
   "metadata": {},
   "source": [
    "#### Shapes of all the DataFrames"
   ]
  },
  {
   "cell_type": "code",
   "execution_count": 12,
   "metadata": {},
   "outputs": [
    {
     "name": "stdout",
     "output_type": "stream",
     "text": [
      "The DataFrame has 64 rows and 2 columns\n"
     ]
    }
   ],
   "source": [
    "# Display the shape of the company_trips dataframe\n",
    "n_rows, n_cols = company_trips.shape\n",
    "print(f\"The DataFrame has {n_rows} rows and {n_cols} columns\")"
   ]
  },
  {
   "cell_type": "code",
   "execution_count": 13,
   "metadata": {},
   "outputs": [
    {
     "name": "stdout",
     "output_type": "stream",
     "text": [
      "The DataFrame has 94 rows and 2 columns\n"
     ]
    }
   ],
   "source": [
    "# Display the shape of the trips_dropoff_locations dataframe\n",
    "n_rows, n_cols = trips_dropoff_locations.shape\n",
    "print(f\"The DataFrame has {n_rows} rows and {n_cols} columns\")"
   ]
  },
  {
   "cell_type": "markdown",
   "metadata": {},
   "source": [
    "### Informative Summary of all the DataFrames"
   ]
  },
  {
   "cell_type": "code",
   "execution_count": 14,
   "metadata": {},
   "outputs": [
    {
     "name": "stdout",
     "output_type": "stream",
     "text": [
      "<class 'pandas.core.frame.DataFrame'>\n",
      "RangeIndex: 64 entries, 0 to 63\n",
      "Data columns (total 2 columns):\n",
      " #   Column        Non-Null Count  Dtype \n",
      "---  ------        --------------  ----- \n",
      " 0   company_name  64 non-null     object\n",
      " 1   trips_amount  64 non-null     int64 \n",
      "dtypes: int64(1), object(1)\n",
      "memory usage: 1.1+ KB\n"
     ]
    }
   ],
   "source": [
    "# Display the informative summary of the company_trips dataframe\n",
    "company_trips.info()"
   ]
  },
  {
   "cell_type": "code",
   "execution_count": null,
   "metadata": {},
   "outputs": [
    {
     "name": "stdout",
     "output_type": "stream",
     "text": [
      "<class 'pandas.core.frame.DataFrame'>\n",
      "RangeIndex: 94 entries, 0 to 93\n",
      "Data columns (total 2 columns):\n",
      " #   Column                 Non-Null Count  Dtype  \n",
      "---  ------                 --------------  -----  \n",
      " 0   dropoff_location_name  94 non-null     object \n",
      " 1   average_trips          94 non-null     float64\n",
      "dtypes: float64(1), object(1)\n",
      "memory usage: 1.6+ KB\n"
     ]
    }
   ],
   "source": [
    "# Display the informative summary of the trips_dropoff_locations dataframe\n",
    "trips_dropoff_locations.info()"
   ]
  },
  {
   "cell_type": "code",
   "execution_count": null,
   "metadata": {},
   "outputs": [
    {
     "name": "stdout",
     "output_type": "stream",
     "text": [
      "<class 'pandas.core.frame.DataFrame'>\n",
      "RangeIndex: 1068 entries, 0 to 1067\n",
      "Data columns (total 3 columns):\n",
      " #   Column              Non-Null Count  Dtype  \n",
      "---  ------              --------------  -----  \n",
      " 0   start_ts            1068 non-null   object \n",
      " 1   weather_conditions  1068 non-null   object \n",
      " 2   duration_seconds    1068 non-null   float64\n",
      "dtypes: float64(1), object(2)\n",
      "memory usage: 25.2+ KB\n"
     ]
    }
   ],
   "source": [
    "# Display the informative summary of the weather_conditions_duration dataframe\n",
    "weather_conditions_duration.info()"
   ]
  },
  {
   "cell_type": "code",
   "execution_count": 17,
   "metadata": {},
   "outputs": [
    {
     "data": {
      "text/plain": [
       "start_ts              datetime64[ns]\n",
       "weather_conditions            object\n",
       "duration_seconds             float64\n",
       "dtype: object"
      ]
     },
     "execution_count": 17,
     "metadata": {},
     "output_type": "execute_result"
    }
   ],
   "source": [
    "# Convert the 'start_ts' column to datetime format in the weather_conditions_duration dataframe\n",
    "weather_conditions_duration['start_ts'] = pd.to_datetime(weather_conditions_duration['start_ts'])\n",
    "\n",
    "# Check the data types of the columns in the weather_conditions_duration dataframe\n",
    "weather_conditions_duration.dtypes"
   ]
  },
  {
   "cell_type": "markdown",
   "metadata": {},
   "source": [
    "In 'weather_condtions_duration' dataFrame, I changed the dtype of start_ts from object to datetime64. "
   ]
  },
  {
   "cell_type": "markdown",
   "metadata": {},
   "source": [
    "### Descriptive Statistics of all the DataFrames"
   ]
  },
  {
   "cell_type": "code",
   "execution_count": 18,
   "metadata": {},
   "outputs": [
    {
     "data": {
      "text/html": [
       "<div>\n",
       "<style scoped>\n",
       "    .dataframe tbody tr th:only-of-type {\n",
       "        vertical-align: middle;\n",
       "    }\n",
       "\n",
       "    .dataframe tbody tr th {\n",
       "        vertical-align: top;\n",
       "    }\n",
       "\n",
       "    .dataframe thead th {\n",
       "        text-align: right;\n",
       "    }\n",
       "</style>\n",
       "<table border=\"1\" class=\"dataframe\">\n",
       "  <thead>\n",
       "    <tr style=\"text-align: right;\">\n",
       "      <th></th>\n",
       "      <th>trips_amount</th>\n",
       "    </tr>\n",
       "  </thead>\n",
       "  <tbody>\n",
       "    <tr>\n",
       "      <th>count</th>\n",
       "      <td>64.000000</td>\n",
       "    </tr>\n",
       "    <tr>\n",
       "      <th>mean</th>\n",
       "      <td>2145.484375</td>\n",
       "    </tr>\n",
       "    <tr>\n",
       "      <th>std</th>\n",
       "      <td>3812.310186</td>\n",
       "    </tr>\n",
       "    <tr>\n",
       "      <th>min</th>\n",
       "      <td>2.000000</td>\n",
       "    </tr>\n",
       "    <tr>\n",
       "      <th>25%</th>\n",
       "      <td>20.750000</td>\n",
       "    </tr>\n",
       "    <tr>\n",
       "      <th>50%</th>\n",
       "      <td>178.500000</td>\n",
       "    </tr>\n",
       "    <tr>\n",
       "      <th>75%</th>\n",
       "      <td>2106.500000</td>\n",
       "    </tr>\n",
       "    <tr>\n",
       "      <th>max</th>\n",
       "      <td>19558.000000</td>\n",
       "    </tr>\n",
       "  </tbody>\n",
       "</table>\n",
       "</div>"
      ],
      "text/plain": [
       "       trips_amount\n",
       "count     64.000000\n",
       "mean    2145.484375\n",
       "std     3812.310186\n",
       "min        2.000000\n",
       "25%       20.750000\n",
       "50%      178.500000\n",
       "75%     2106.500000\n",
       "max    19558.000000"
      ]
     },
     "execution_count": 18,
     "metadata": {},
     "output_type": "execute_result"
    }
   ],
   "source": [
    "# Display descriptive statistics for the company_trips dataframe\n",
    "company_trips.describe()"
   ]
  },
  {
   "cell_type": "code",
   "execution_count": 19,
   "metadata": {},
   "outputs": [
    {
     "data": {
      "text/html": [
       "<div>\n",
       "<style scoped>\n",
       "    .dataframe tbody tr th:only-of-type {\n",
       "        vertical-align: middle;\n",
       "    }\n",
       "\n",
       "    .dataframe tbody tr th {\n",
       "        vertical-align: top;\n",
       "    }\n",
       "\n",
       "    .dataframe thead th {\n",
       "        text-align: right;\n",
       "    }\n",
       "</style>\n",
       "<table border=\"1\" class=\"dataframe\">\n",
       "  <thead>\n",
       "    <tr style=\"text-align: right;\">\n",
       "      <th></th>\n",
       "      <th>average_trips</th>\n",
       "    </tr>\n",
       "  </thead>\n",
       "  <tbody>\n",
       "    <tr>\n",
       "      <th>count</th>\n",
       "      <td>94.000000</td>\n",
       "    </tr>\n",
       "    <tr>\n",
       "      <th>mean</th>\n",
       "      <td>599.953728</td>\n",
       "    </tr>\n",
       "    <tr>\n",
       "      <th>std</th>\n",
       "      <td>1714.591098</td>\n",
       "    </tr>\n",
       "    <tr>\n",
       "      <th>min</th>\n",
       "      <td>1.800000</td>\n",
       "    </tr>\n",
       "    <tr>\n",
       "      <th>25%</th>\n",
       "      <td>14.266667</td>\n",
       "    </tr>\n",
       "    <tr>\n",
       "      <th>50%</th>\n",
       "      <td>52.016667</td>\n",
       "    </tr>\n",
       "    <tr>\n",
       "      <th>75%</th>\n",
       "      <td>298.858333</td>\n",
       "    </tr>\n",
       "    <tr>\n",
       "      <th>max</th>\n",
       "      <td>10727.466667</td>\n",
       "    </tr>\n",
       "  </tbody>\n",
       "</table>\n",
       "</div>"
      ],
      "text/plain": [
       "       average_trips\n",
       "count      94.000000\n",
       "mean      599.953728\n",
       "std      1714.591098\n",
       "min         1.800000\n",
       "25%        14.266667\n",
       "50%        52.016667\n",
       "75%       298.858333\n",
       "max     10727.466667"
      ]
     },
     "execution_count": 19,
     "metadata": {},
     "output_type": "execute_result"
    }
   ],
   "source": [
    "# Display descriptive statistics for the trips_dropoff_locations dataframe\n",
    "trips_dropoff_locations.describe()"
   ]
  },
  {
   "cell_type": "markdown",
   "metadata": {},
   "source": [
    "### Duplicates"
   ]
  },
  {
   "cell_type": "code",
   "execution_count": 20,
   "metadata": {},
   "outputs": [
    {
     "data": {
      "text/plain": [
       "'Number of duplicated data: 0'"
      ]
     },
     "metadata": {},
     "output_type": "display_data"
    }
   ],
   "source": [
    "# Check for duplicates in the company_trips dataframe\n",
    "duplicated_company_trips = company_trips[company_trips.duplicated()]\n",
    "display(f\"Number of duplicated data: {duplicated_company_trips.shape[0]}\")"
   ]
  },
  {
   "cell_type": "code",
   "execution_count": 21,
   "metadata": {},
   "outputs": [
    {
     "data": {
      "text/plain": [
       "'Number of duplicated data: 0'"
      ]
     },
     "metadata": {},
     "output_type": "display_data"
    }
   ],
   "source": [
    "# Check for duplicates in the trips_dropoff_locations dataframe\n",
    "duplicated_trips_dropoff_locations = trips_dropoff_locations[trips_dropoff_locations.duplicated()]\n",
    "display(f\"Number of duplicated data: {duplicated_trips_dropoff_locations.shape[0]}\")"
   ]
  },
  {
   "cell_type": "markdown",
   "metadata": {},
   "source": [
    "### Missing Values"
   ]
  },
  {
   "cell_type": "code",
   "execution_count": 22,
   "metadata": {},
   "outputs": [
    {
     "data": {
      "text/plain": [
       "company_name    0\n",
       "trips_amount    0\n",
       "dtype: int64"
      ]
     },
     "metadata": {},
     "output_type": "display_data"
    }
   ],
   "source": [
    "# Check for missing values in the company_trips dataframe\n",
    "display(company_trips.isna().sum())"
   ]
  },
  {
   "cell_type": "code",
   "execution_count": 23,
   "metadata": {},
   "outputs": [
    {
     "data": {
      "text/plain": [
       "dropoff_location_name    0\n",
       "average_trips            0\n",
       "dtype: int64"
      ]
     },
     "metadata": {},
     "output_type": "display_data"
    }
   ],
   "source": [
    "# Check for missing values in the trips_dropoff_locations dataframe\n",
    "display(trips_dropoff_locations.isna().sum())"
   ]
  },
  {
   "cell_type": "markdown",
   "metadata": {},
   "source": [
    "## Data Analysis"
   ]
  },
  {
   "cell_type": "markdown",
   "metadata": {},
   "source": [
    "### Identify the top 10 companies with the most rides"
   ]
  },
  {
   "cell_type": "code",
   "execution_count": 24,
   "metadata": {},
   "outputs": [],
   "source": [
    "# Top 10 companies with the most rides\n",
    "top_10_companies_rides = company_trips.head(10)"
   ]
  },
  {
   "cell_type": "code",
   "execution_count": null,
   "metadata": {
    "scrolled": false
   },
   "outputs": [
    {
     "data": {
      "image/png": "[encoded data removed]",
      "text/plain": [
       "<Figure size 1000x600 with 1 Axes>"
      ]
     },
     "metadata": {},
     "output_type": "display_data"
    }
   ],
   "source": [
    "# Create a bar plot for the top 10 companies with the most rides\n",
    "top_10_companies_rides.sort_values(by='trips_amount').plot(x='company_name',\n",
    "                  y='trips_amount', \n",
    "                  kind='barh', # horizontal bar chart\n",
    "                  figsize=(10,6),\n",
    "                  color='orange')\n",
    "plt.title('Rides distribution based on taxi companies')\n",
    "plt.ylabel('Taxi Companies')\n",
    "plt.xlabel('Total Number of Rides')\n",
    "plt.legend('')\n",
    "plt.show()"
   ]
  },
  {
   "cell_type": "markdown",
   "metadata": {},
   "source": [
    "The graph above shows the rides distribution based on taxi companies on November 15-16, 2017. It can be known that company named 'Flash Cab', has the highest number of rides when compared to other companies which are among the top 10 companies in terms of total number of rides. Also, the number of rides of the company 'Taxi Affiliation Services' which is second company after 'Flash Cab' has almost half of the number of rides 'Flash Cab' had. "
   ]
  },
  {
   "cell_type": "markdown",
   "metadata": {},
   "source": [
    "### Identify the top 10 neighborhoods in terms of drop offs\n"
   ]
  },
  {
   "cell_type": "code",
   "execution_count": 28,
   "metadata": {},
   "outputs": [
    {
     "data": {
      "text/html": [
       "<div>\n",
       "<style scoped>\n",
       "    .dataframe tbody tr th:only-of-type {\n",
       "        vertical-align: middle;\n",
       "    }\n",
       "\n",
       "    .dataframe tbody tr th {\n",
       "        vertical-align: top;\n",
       "    }\n",
       "\n",
       "    .dataframe thead th {\n",
       "        text-align: right;\n",
       "    }\n",
       "</style>\n",
       "<table border=\"1\" class=\"dataframe\">\n",
       "  <thead>\n",
       "    <tr style=\"text-align: right;\">\n",
       "      <th></th>\n",
       "      <th>dropoff_location_name</th>\n",
       "      <th>average_trips</th>\n",
       "    </tr>\n",
       "  </thead>\n",
       "  <tbody>\n",
       "    <tr>\n",
       "      <th>0</th>\n",
       "      <td>Loop</td>\n",
       "      <td>10727.466667</td>\n",
       "    </tr>\n",
       "    <tr>\n",
       "      <th>1</th>\n",
       "      <td>River North</td>\n",
       "      <td>9523.666667</td>\n",
       "    </tr>\n",
       "    <tr>\n",
       "      <th>2</th>\n",
       "      <td>Streeterville</td>\n",
       "      <td>6664.666667</td>\n",
       "    </tr>\n",
       "    <tr>\n",
       "      <th>3</th>\n",
       "      <td>West Loop</td>\n",
       "      <td>5163.666667</td>\n",
       "    </tr>\n",
       "    <tr>\n",
       "      <th>4</th>\n",
       "      <td>O'Hare</td>\n",
       "      <td>2546.900000</td>\n",
       "    </tr>\n",
       "    <tr>\n",
       "      <th>5</th>\n",
       "      <td>Lake View</td>\n",
       "      <td>2420.966667</td>\n",
       "    </tr>\n",
       "    <tr>\n",
       "      <th>6</th>\n",
       "      <td>Grant Park</td>\n",
       "      <td>2068.533333</td>\n",
       "    </tr>\n",
       "    <tr>\n",
       "      <th>7</th>\n",
       "      <td>Museum Campus</td>\n",
       "      <td>1510.000000</td>\n",
       "    </tr>\n",
       "    <tr>\n",
       "      <th>8</th>\n",
       "      <td>Gold Coast</td>\n",
       "      <td>1364.233333</td>\n",
       "    </tr>\n",
       "    <tr>\n",
       "      <th>9</th>\n",
       "      <td>Sheffield &amp; DePaul</td>\n",
       "      <td>1259.766667</td>\n",
       "    </tr>\n",
       "  </tbody>\n",
       "</table>\n",
       "</div>"
      ],
      "text/plain": [
       "  dropoff_location_name  average_trips\n",
       "0                  Loop   10727.466667\n",
       "1           River North    9523.666667\n",
       "2         Streeterville    6664.666667\n",
       "3             West Loop    5163.666667\n",
       "4                O'Hare    2546.900000\n",
       "5             Lake View    2420.966667\n",
       "6            Grant Park    2068.533333\n",
       "7         Museum Campus    1510.000000\n",
       "8            Gold Coast    1364.233333\n",
       "9    Sheffield & DePaul    1259.766667"
      ]
     },
     "metadata": {},
     "output_type": "display_data"
    }
   ],
   "source": [
    "# Top 10 drop-off locations with the most rides\n",
    "top_dropoff_location = trips_dropoff_locations.sort_values(by='average_trips', ascending=False).head(10)\n",
    "display(top_dropoff_location)"
   ]
  },
  {
   "cell_type": "code",
   "execution_count": 29,
   "metadata": {},
   "outputs": [
    {
     "data": {
      "image/png": "[encoded data removed]",
      "text/plain": [
       "<Figure size 1000x600 with 1 Axes>"
      ]
     },
     "metadata": {},
     "output_type": "display_data"
    }
   ],
   "source": [
    "# Create a bar plot for the top 10 drop-off locations with the most rides\n",
    "top_dropoff_location.plot(x='dropoff_location_name', \n",
    "                          y='average_trips',\n",
    "                          kind='bar',\n",
    "                          figsize=(10,6),\n",
    "                          color='pink')\n",
    "plt.title('Top 10 neighborhoods by number of dropoffs')\n",
    "plt.xlabel('Dropoff Location Names')\n",
    "plt.ylabel('Average Trips')\n",
    "plt.xticks(rotation=45)\n",
    "plt.show()"
   ]
  },
  {
   "cell_type": "markdown",
   "metadata": {},
   "source": [
    "The above graph shows the top 10 Chicago neighborhoods by number of dropoffs. Based on the graph above, it is known that Loop neighborhood had the highest number of dropoffs, which shows that there were more people going to this neighborhood compared to the rest. Followed by Loop neighborhood, its River North, Streetville, and West Loop neighborhoods. Following West Loop, its O'Hare where the number of dropoffs are almost half to that of in West Loop which is similar to that in Lake View and Grant Park. "
   ]
  },
  {
   "cell_type": "markdown",
   "metadata": {},
   "source": [
    "## Test the hypotheses\n",
    "\n",
    "**HO:** The average duration of rides from the Loop to O'Hare International Airport on rainy Saturdays is equal to that on non-rainy Saturdays. <br>\n",
    "**HA:** The average duration of rides from the Loop to O'Hare International Airport on rainy Saturdays is not equal to that on non-rainy Saturdays <br>\n",
    "**Statistical test = t-test** <br>\n",
    "**Alpha value = 0.05**"
   ]
  },
  {
   "cell_type": "code",
   "execution_count": 30,
   "metadata": {},
   "outputs": [],
   "source": [
    "# Converting the 'day_of_week' column to datetime format in the weather_conditions_duration dataframe\n",
    "weather_conditions_duration['day_of_week'] = weather_conditions_duration['start_ts'].dt.day_name()"
   ]
  },
  {
   "cell_type": "code",
   "execution_count": 34,
   "metadata": {},
   "outputs": [
    {
     "data": {
      "text/html": [
       "<div>\n",
       "<style scoped>\n",
       "    .dataframe tbody tr th:only-of-type {\n",
       "        vertical-align: middle;\n",
       "    }\n",
       "\n",
       "    .dataframe tbody tr th {\n",
       "        vertical-align: top;\n",
       "    }\n",
       "\n",
       "    .dataframe thead th {\n",
       "        text-align: right;\n",
       "    }\n",
       "</style>\n",
       "<table border=\"1\" class=\"dataframe\">\n",
       "  <thead>\n",
       "    <tr style=\"text-align: right;\">\n",
       "      <th></th>\n",
       "      <th>start_ts</th>\n",
       "      <th>weather_conditions</th>\n",
       "      <th>duration_seconds</th>\n",
       "      <th>day_of_week</th>\n",
       "    </tr>\n",
       "  </thead>\n",
       "  <tbody>\n",
       "    <tr>\n",
       "      <th>0</th>\n",
       "      <td>2017-11-25 16:00:00</td>\n",
       "      <td>Good</td>\n",
       "      <td>2410.0</td>\n",
       "      <td>Saturday</td>\n",
       "    </tr>\n",
       "    <tr>\n",
       "      <th>1</th>\n",
       "      <td>2017-11-25 14:00:00</td>\n",
       "      <td>Good</td>\n",
       "      <td>1920.0</td>\n",
       "      <td>Saturday</td>\n",
       "    </tr>\n",
       "    <tr>\n",
       "      <th>2</th>\n",
       "      <td>2017-11-25 12:00:00</td>\n",
       "      <td>Good</td>\n",
       "      <td>1543.0</td>\n",
       "      <td>Saturday</td>\n",
       "    </tr>\n",
       "    <tr>\n",
       "      <th>3</th>\n",
       "      <td>2017-11-04 10:00:00</td>\n",
       "      <td>Good</td>\n",
       "      <td>2512.0</td>\n",
       "      <td>Saturday</td>\n",
       "    </tr>\n",
       "    <tr>\n",
       "      <th>4</th>\n",
       "      <td>2017-11-11 07:00:00</td>\n",
       "      <td>Good</td>\n",
       "      <td>1440.0</td>\n",
       "      <td>Saturday</td>\n",
       "    </tr>\n",
       "  </tbody>\n",
       "</table>\n",
       "</div>"
      ],
      "text/plain": [
       "             start_ts weather_conditions  duration_seconds day_of_week\n",
       "0 2017-11-25 16:00:00               Good            2410.0    Saturday\n",
       "1 2017-11-25 14:00:00               Good            1920.0    Saturday\n",
       "2 2017-11-25 12:00:00               Good            1543.0    Saturday\n",
       "3 2017-11-04 10:00:00               Good            2512.0    Saturday\n",
       "4 2017-11-11 07:00:00               Good            1440.0    Saturday"
      ]
     },
     "metadata": {},
     "output_type": "display_data"
    }
   ],
   "source": [
    "# Filter the weather_conditions_duration dataframe for Saturdays\n",
    "saturdays = weather_conditions_duration[weather_conditions_duration['day_of_week'] == 'Saturday']\n",
    "display(saturdays.head())"
   ]
  },
  {
   "cell_type": "code",
   "execution_count": 37,
   "metadata": {},
   "outputs": [
    {
     "data": {
      "text/plain": [
       "6     2969.0\n",
       "30    1980.0\n",
       "34    2460.0\n",
       "51    2760.0\n",
       "52    2460.0\n",
       "Name: duration_seconds, dtype: float64"
      ]
     },
     "metadata": {},
     "output_type": "display_data"
    }
   ],
   "source": [
    "# Display the duration of rides in seconds for Saturdays during bad weather\n",
    "bad_weather = saturdays[saturdays['weather_conditions'] == 'Bad']['duration_seconds']\n",
    "display(bad_weather.head())"
   ]
  },
  {
   "cell_type": "code",
   "execution_count": 38,
   "metadata": {},
   "outputs": [
    {
     "data": {
      "text/plain": [
       "2427.2055555555557"
      ]
     },
     "execution_count": 38,
     "metadata": {},
     "output_type": "execute_result"
    }
   ],
   "source": [
    "# Display the average duration of rides in seconds for Saturdays during bad weather\n",
    "bad_weather.mean()"
   ]
  },
  {
   "cell_type": "code",
   "execution_count": 40,
   "metadata": {},
   "outputs": [
    {
     "data": {
      "text/plain": [
       "0    2410.0\n",
       "1    1920.0\n",
       "2    1543.0\n",
       "3    2512.0\n",
       "4    1440.0\n",
       "Name: duration_seconds, dtype: float64"
      ]
     },
     "metadata": {},
     "output_type": "display_data"
    }
   ],
   "source": [
    "# Display the duration of rides in seconds for Saturdays during good weather\n",
    "good_weather = saturdays[saturdays['weather_conditions'] == 'Good']['duration_seconds']\n",
    "display(good_weather.head())"
   ]
  },
  {
   "cell_type": "code",
   "execution_count": 41,
   "metadata": {},
   "outputs": [
    {
     "data": {
      "text/plain": [
       "1999.6756756756756"
      ]
     },
     "execution_count": 41,
     "metadata": {},
     "output_type": "execute_result"
    }
   ],
   "source": [
    "# Display the average duration of rides in seconds for Saturdays during good weather\n",
    "good_weather.mean()"
   ]
  },
  {
   "cell_type": "code",
   "execution_count": 42,
   "metadata": {},
   "outputs": [
    {
     "name": "stdout",
     "output_type": "stream",
     "text": [
      "t-statistic: 6.946177714041499\n",
      "p-value: 6.517970327099473e-12\n",
      "We reject the null hypothesis\n"
     ]
    }
   ],
   "source": [
    "# Perform a t-test to compare the average duration of rides during bad and good weather\n",
    "\n",
    "# Set the significance level\n",
    "alpha = 0.05\n",
    "\n",
    "# Perform the t-test\n",
    "results = st.ttest_ind(bad_weather, good_weather)\n",
    "\n",
    "# Display the results of the t-test\n",
    "print('t-statistic:', results.statistic)\n",
    "print('p-value:', results.pvalue)\n",
    "\n",
    "if results.pvalue < alpha:\n",
    "    print(\"We reject the null hypothesis\")\n",
    "else:\n",
    "    print(\"We can't reject the null hypothesis\")"
   ]
  },
  {
   "cell_type": "markdown",
   "metadata": {},
   "source": [
    "As the p-value is less than alpha, we can reject the null hypothesis. This shows that the average duration of rides from the  Loop to O'Hare International Airport on rainy Saturdays is not equal to that on non-rainy Saturdays. The result makes sense as due to rain there is less visibility and so more traffic and thus the duration of a ride increases. "
   ]
  },
  {
   "cell_type": "markdown",
   "metadata": {},
   "source": [
    "## Overall Conclusion"
   ]
  },
  {
   "cell_type": "markdown",
   "metadata": {},
   "source": [
    "The project is based on analyzing three datas which are retrieved from the SQL tasks that are done previously to determine patterns in the available information. The SQL tasks were based on the database from competitors of a new ride-sharing company, Zuber which is launching in Chicago. Along with determining the patterns, one is tried to understand passenger preferences and the impact of external factors on rides.\n",
    "\n",
    "Using one of the datas a graph showing the rides distribution of different taxi companies in Chicago on November 15-16, 2017 was made. It can be known that company named 'Flash Cab' had the highest number of rides when compared to other companies which are among the top 10 companies in terms of total number of rides. Also, company 'Taxi Affiliation Services' is right after 'Flash Cab' in the graph, but had almost half of the number of rides 'Flash Cab' company had. From which it can be said that company 'Flash Cab' is more famous in Chicago in terms of rides compared to other companies in business. \n",
    "\n",
    "Another graph was made which shows the top 10 Chicago neighborhoods by number of dropoffs. Based on the graph, it was known that Loop neighborhood had the highest number of dropoffs, which shows that in Chicago there were more people going to this neighborhood compared to the rest. Followed by Loop neighborhood, its River North, Streetville, and West Loop neighborhoods and lastly its O'Hare where the number of dropoffs are almost half to that of in West Loop which is similar to that in Lake View and Grant Park.\n",
    "\n"
   ]
  },
  {
   "cell_type": "markdown",
   "metadata": {},
   "source": [
    "Lastly, a t-test was done to test the hypotheses whether the average duration of rides from the Loop to O'Hare International Airport on rainy Saturdays is equal or not to that on non-rainy Saturdays. By doing t-test as the p-value is less than alpha, we  reject the null hypothesis. This shows that the average duration of rides from the Loop to O'Hare International Airport on rainy Saturdays is not equal to that on non-rainy Saturdays. Also from the average number of rides, it was known that the average duration of rides during rainy Saturdays were more than that of non-rainy Saturdays. This make sense as due to rain there is less visibility and so more traffic and thus the duration of a ride increases. "
   ]
  }
 ],
 "metadata": {
  "ExecuteTimeLog": [
   {
    "duration": 3,
    "start_time": "2024-11-17T03:59:52.783Z"
   },
   {
    "duration": 796,
    "start_time": "2024-11-17T03:59:53.585Z"
   },
   {
    "duration": 8,
    "start_time": "2024-11-17T03:59:54.742Z"
   },
   {
    "duration": 5,
    "start_time": "2024-11-17T03:59:55.789Z"
   },
   {
    "duration": 2,
    "start_time": "2024-11-17T04:00:53.914Z"
   },
   {
    "duration": 10,
    "start_time": "2024-11-17T04:00:54.620Z"
   },
   {
    "duration": 2,
    "start_time": "2024-11-17T04:01:03.142Z"
   },
   {
    "duration": 9,
    "start_time": "2024-11-17T04:01:04.107Z"
   },
   {
    "duration": 8,
    "start_time": "2024-11-17T04:01:18.507Z"
   },
   {
    "duration": 3,
    "start_time": "2024-11-17T04:01:27.163Z"
   },
   {
    "duration": 833,
    "start_time": "2024-11-17T04:01:27.168Z"
   },
   {
    "duration": 5,
    "start_time": "2024-11-17T04:01:28.003Z"
   },
   {
    "duration": 4,
    "start_time": "2024-11-17T04:01:28.010Z"
   },
   {
    "duration": 6,
    "start_time": "2024-11-17T04:01:28.026Z"
   },
   {
    "duration": 9,
    "start_time": "2024-11-17T04:01:28.034Z"
   },
   {
    "duration": 2,
    "start_time": "2024-11-17T04:01:28.044Z"
   },
   {
    "duration": 8,
    "start_time": "2024-11-17T04:01:28.048Z"
   },
   {
    "duration": 10,
    "start_time": "2024-11-17T04:01:28.058Z"
   },
   {
    "duration": 4,
    "start_time": "2024-11-17T04:02:00.966Z"
   },
   {
    "duration": 4,
    "start_time": "2024-11-17T04:02:10.528Z"
   },
   {
    "duration": 8,
    "start_time": "2024-11-17T04:02:40.189Z"
   },
   {
    "duration": 10,
    "start_time": "2024-11-17T04:02:54.269Z"
   },
   {
    "duration": 5,
    "start_time": "2024-11-17T04:03:05.778Z"
   },
   {
    "duration": 3,
    "start_time": "2024-11-17T04:03:26.380Z"
   },
   {
    "duration": 3,
    "start_time": "2024-11-17T04:03:27.618Z"
   },
   {
    "duration": 8,
    "start_time": "2024-11-17T04:03:55.833Z"
   },
   {
    "duration": 8,
    "start_time": "2024-11-17T04:03:57.661Z"
   },
   {
    "duration": 10,
    "start_time": "2024-11-17T04:03:59.261Z"
   },
   {
    "duration": 8,
    "start_time": "2024-11-17T04:04:01.253Z"
   },
   {
    "duration": 5,
    "start_time": "2024-11-17T04:04:14.832Z"
   },
   {
    "duration": 4,
    "start_time": "2024-11-17T04:04:19.794Z"
   },
   {
    "duration": 5,
    "start_time": "2024-11-17T04:04:34.069Z"
   },
   {
    "duration": 4,
    "start_time": "2024-11-17T04:04:34.991Z"
   },
   {
    "duration": 13,
    "start_time": "2024-11-17T04:04:46.578Z"
   },
   {
    "duration": 6,
    "start_time": "2024-11-17T04:04:51.242Z"
   },
   {
    "duration": 6,
    "start_time": "2024-11-17T04:05:15.271Z"
   },
   {
    "duration": 2,
    "start_time": "2024-11-17T04:05:40.926Z"
   },
   {
    "duration": 217,
    "start_time": "2024-11-17T04:05:55.367Z"
   },
   {
    "duration": 193,
    "start_time": "2024-11-17T04:06:07.382Z"
   },
   {
    "duration": 239,
    "start_time": "2024-11-17T04:06:17.907Z"
   },
   {
    "duration": 187,
    "start_time": "2024-11-17T04:06:34.722Z"
   },
   {
    "duration": 2,
    "start_time": "2024-11-17T04:10:12.020Z"
   },
   {
    "duration": 155,
    "start_time": "2024-11-17T04:10:13.249Z"
   },
   {
    "duration": 2,
    "start_time": "2024-11-17T04:10:58.328Z"
   },
   {
    "duration": 2,
    "start_time": "2024-11-17T04:11:00.810Z"
   },
   {
    "duration": 156,
    "start_time": "2024-11-17T09:19:54.717Z"
   },
   {
    "duration": 2,
    "start_time": "2024-11-17T09:19:59.400Z"
   },
   {
    "duration": 13,
    "start_time": "2024-11-17T09:20:02.989Z"
   },
   {
    "duration": 2475,
    "start_time": "2024-11-17T09:20:17.455Z"
   },
   {
    "duration": 8,
    "start_time": "2024-11-17T09:20:19.932Z"
   },
   {
    "duration": 6,
    "start_time": "2024-11-17T09:20:19.941Z"
   },
   {
    "duration": 7,
    "start_time": "2024-11-17T09:20:19.949Z"
   },
   {
    "duration": 8,
    "start_time": "2024-11-17T09:20:19.959Z"
   },
   {
    "duration": 2,
    "start_time": "2024-11-17T09:20:19.969Z"
   },
   {
    "duration": 7,
    "start_time": "2024-11-17T09:20:19.973Z"
   },
   {
    "duration": 29,
    "start_time": "2024-11-17T09:20:19.982Z"
   },
   {
    "duration": 2,
    "start_time": "2024-11-17T09:20:20.013Z"
   },
   {
    "duration": 4,
    "start_time": "2024-11-17T09:20:20.017Z"
   },
   {
    "duration": 3,
    "start_time": "2024-11-17T09:20:20.022Z"
   },
   {
    "duration": 3,
    "start_time": "2024-11-17T09:20:20.027Z"
   },
   {
    "duration": 3,
    "start_time": "2024-11-17T09:20:20.032Z"
   },
   {
    "duration": 2,
    "start_time": "2024-11-17T09:20:20.039Z"
   },
   {
    "duration": 8,
    "start_time": "2024-11-17T09:20:20.043Z"
   },
   {
    "duration": 54,
    "start_time": "2024-11-17T09:20:20.052Z"
   },
   {
    "duration": 8,
    "start_time": "2024-11-17T09:20:20.109Z"
   },
   {
    "duration": 8,
    "start_time": "2024-11-17T09:20:20.119Z"
   },
   {
    "duration": 5,
    "start_time": "2024-11-17T09:20:20.129Z"
   },
   {
    "duration": 4,
    "start_time": "2024-11-17T09:20:20.135Z"
   },
   {
    "duration": 4,
    "start_time": "2024-11-17T09:20:20.141Z"
   },
   {
    "duration": 5,
    "start_time": "2024-11-17T09:20:20.147Z"
   },
   {
    "duration": 6,
    "start_time": "2024-11-17T09:20:20.154Z"
   },
   {
    "duration": 47,
    "start_time": "2024-11-17T09:20:20.161Z"
   },
   {
    "duration": 6,
    "start_time": "2024-11-17T09:20:20.211Z"
   },
   {
    "duration": 3,
    "start_time": "2024-11-17T09:20:20.218Z"
   },
   {
    "duration": 231,
    "start_time": "2024-11-17T09:20:20.222Z"
   },
   {
    "duration": 2,
    "start_time": "2024-11-17T09:20:20.455Z"
   },
   {
    "duration": 159,
    "start_time": "2024-11-17T09:20:20.459Z"
   },
   {
    "duration": 2,
    "start_time": "2024-11-17T09:20:20.620Z"
   },
   {
    "duration": 5,
    "start_time": "2024-11-17T09:20:20.624Z"
   },
   {
    "duration": 8,
    "start_time": "2024-11-17T09:20:20.631Z"
   },
   {
    "duration": 276,
    "start_time": "2024-11-17T09:20:20.641Z"
   },
   {
    "duration": 8,
    "start_time": "2024-11-17T09:20:36.202Z"
   },
   {
    "duration": 5,
    "start_time": "2024-11-17T09:28:17.765Z"
   },
   {
    "duration": 3,
    "start_time": "2024-11-17T09:28:21.295Z"
   },
   {
    "duration": 6,
    "start_time": "2024-11-17T09:32:33.735Z"
   },
   {
    "duration": 4,
    "start_time": "2024-11-17T09:32:35.486Z"
   },
   {
    "duration": 22,
    "start_time": "2024-11-17T09:32:45.344Z"
   },
   {
    "duration": 4,
    "start_time": "2024-11-17T09:33:04.190Z"
   },
   {
    "duration": 8,
    "start_time": "2024-11-17T09:44:52.973Z"
   },
   {
    "duration": 4,
    "start_time": "2024-11-17T09:45:28.633Z"
   },
   {
    "duration": 8,
    "start_time": "2024-11-17T09:45:48.450Z"
   },
   {
    "duration": 5,
    "start_time": "2024-11-17T09:47:54.563Z"
   },
   {
    "duration": 11,
    "start_time": "2024-11-17T09:48:01.768Z"
   },
   {
    "duration": 2460,
    "start_time": "2024-11-17T21:21:49.073Z"
   },
   {
    "duration": 8,
    "start_time": "2024-11-17T21:21:51.535Z"
   },
   {
    "duration": 6,
    "start_time": "2024-11-17T21:21:51.544Z"
   },
   {
    "duration": 6,
    "start_time": "2024-11-17T21:21:51.552Z"
   },
   {
    "duration": 9,
    "start_time": "2024-11-17T21:21:51.559Z"
   },
   {
    "duration": 2,
    "start_time": "2024-11-17T21:21:51.569Z"
   },
   {
    "duration": 20,
    "start_time": "2024-11-17T21:21:51.573Z"
   },
   {
    "duration": 8,
    "start_time": "2024-11-17T21:21:51.595Z"
   },
   {
    "duration": 2,
    "start_time": "2024-11-17T21:21:51.605Z"
   },
   {
    "duration": 3,
    "start_time": "2024-11-17T21:21:51.611Z"
   },
   {
    "duration": 3,
    "start_time": "2024-11-17T21:21:51.616Z"
   },
   {
    "duration": 4,
    "start_time": "2024-11-17T21:21:51.621Z"
   },
   {
    "duration": 3,
    "start_time": "2024-11-17T21:21:51.626Z"
   },
   {
    "duration": 3,
    "start_time": "2024-11-17T21:21:51.630Z"
   },
   {
    "duration": 57,
    "start_time": "2024-11-17T21:21:51.635Z"
   },
   {
    "duration": 8,
    "start_time": "2024-11-17T21:21:51.694Z"
   },
   {
    "duration": 8,
    "start_time": "2024-11-17T21:21:51.703Z"
   },
   {
    "duration": 4,
    "start_time": "2024-11-17T21:21:51.713Z"
   },
   {
    "duration": 9,
    "start_time": "2024-11-17T21:21:51.718Z"
   },
   {
    "duration": 8,
    "start_time": "2024-11-17T21:21:51.728Z"
   },
   {
    "duration": 8,
    "start_time": "2024-11-17T21:21:51.738Z"
   },
   {
    "duration": 5,
    "start_time": "2024-11-17T21:21:51.787Z"
   },
   {
    "duration": 5,
    "start_time": "2024-11-17T21:21:51.793Z"
   },
   {
    "duration": 5,
    "start_time": "2024-11-17T21:21:51.800Z"
   },
   {
    "duration": 5,
    "start_time": "2024-11-17T21:21:51.806Z"
   },
   {
    "duration": 6,
    "start_time": "2024-11-17T21:21:51.812Z"
   },
   {
    "duration": 4,
    "start_time": "2024-11-17T21:21:51.820Z"
   },
   {
    "duration": 6,
    "start_time": "2024-11-17T21:21:51.829Z"
   },
   {
    "duration": 51,
    "start_time": "2024-11-17T21:21:51.837Z"
   },
   {
    "duration": 213,
    "start_time": "2024-11-17T21:21:51.890Z"
   },
   {
    "duration": 3,
    "start_time": "2024-11-17T21:21:52.104Z"
   },
   {
    "duration": 152,
    "start_time": "2024-11-17T21:21:52.109Z"
   },
   {
    "duration": 2,
    "start_time": "2024-11-17T21:21:52.263Z"
   },
   {
    "duration": 2,
    "start_time": "2024-11-17T21:21:52.267Z"
   },
   {
    "duration": 16,
    "start_time": "2024-11-17T21:21:52.271Z"
   },
   {
    "duration": 9,
    "start_time": "2024-11-17T21:21:52.289Z"
   },
   {
    "duration": 4,
    "start_time": "2024-11-17T21:21:52.300Z"
   },
   {
    "duration": 3,
    "start_time": "2024-11-17T21:21:52.306Z"
   },
   {
    "duration": 4,
    "start_time": "2024-11-17T21:21:52.311Z"
   },
   {
    "duration": 3,
    "start_time": "2024-11-17T21:21:52.317Z"
   },
   {
    "duration": 4,
    "start_time": "2024-11-17T21:21:52.322Z"
   },
   {
    "duration": 6,
    "start_time": "2024-11-17T21:33:15.695Z"
   },
   {
    "duration": 6,
    "start_time": "2024-11-17T21:34:36.326Z"
   },
   {
    "duration": 6,
    "start_time": "2024-11-17T21:36:02.685Z"
   },
   {
    "duration": 8,
    "start_time": "2024-11-17T21:47:18.847Z"
   },
   {
    "duration": 2,
    "start_time": "2024-11-17T21:47:21.080Z"
   },
   {
    "duration": 274,
    "start_time": "2024-11-17T21:47:21.978Z"
   },
   {
    "duration": 8,
    "start_time": "2024-11-17T21:47:34.603Z"
   },
   {
    "duration": 11,
    "start_time": "2024-11-17T21:47:39.670Z"
   },
   {
    "duration": 14,
    "start_time": "2024-11-17T21:47:51.127Z"
   },
   {
    "duration": 4,
    "start_time": "2024-11-17T21:48:02.034Z"
   },
   {
    "duration": 4,
    "start_time": "2024-11-17T21:48:30.495Z"
   },
   {
    "duration": 4,
    "start_time": "2024-11-17T21:48:56.701Z"
   },
   {
    "duration": 816,
    "start_time": "2024-11-17T21:54:36.197Z"
   },
   {
    "duration": 7,
    "start_time": "2024-11-17T21:54:37.015Z"
   },
   {
    "duration": 5,
    "start_time": "2024-11-17T21:54:37.023Z"
   },
   {
    "duration": 5,
    "start_time": "2024-11-17T21:54:37.030Z"
   },
   {
    "duration": 9,
    "start_time": "2024-11-17T21:54:37.037Z"
   },
   {
    "duration": 3,
    "start_time": "2024-11-17T21:54:37.048Z"
   },
   {
    "duration": 9,
    "start_time": "2024-11-17T21:54:37.052Z"
   },
   {
    "duration": 31,
    "start_time": "2024-11-17T21:54:37.063Z"
   },
   {
    "duration": 2,
    "start_time": "2024-11-17T21:54:37.096Z"
   },
   {
    "duration": 5,
    "start_time": "2024-11-17T21:54:37.100Z"
   },
   {
    "duration": 4,
    "start_time": "2024-11-17T21:54:37.106Z"
   },
   {
    "duration": 4,
    "start_time": "2024-11-17T21:54:37.112Z"
   },
   {
    "duration": 3,
    "start_time": "2024-11-17T21:54:37.117Z"
   },
   {
    "duration": 3,
    "start_time": "2024-11-17T21:54:37.124Z"
   },
   {
    "duration": 9,
    "start_time": "2024-11-17T21:54:37.128Z"
   },
   {
    "duration": 54,
    "start_time": "2024-11-17T21:54:37.138Z"
   },
   {
    "duration": 9,
    "start_time": "2024-11-17T21:54:37.193Z"
   },
   {
    "duration": 5,
    "start_time": "2024-11-17T21:54:37.203Z"
   },
   {
    "duration": 9,
    "start_time": "2024-11-17T21:54:37.209Z"
   },
   {
    "duration": 9,
    "start_time": "2024-11-17T21:54:37.219Z"
   },
   {
    "duration": 9,
    "start_time": "2024-11-17T21:54:37.229Z"
   },
   {
    "duration": 5,
    "start_time": "2024-11-17T21:54:37.239Z"
   },
   {
    "duration": 42,
    "start_time": "2024-11-17T21:54:37.246Z"
   },
   {
    "duration": 5,
    "start_time": "2024-11-17T21:54:37.289Z"
   },
   {
    "duration": 5,
    "start_time": "2024-11-17T21:54:37.295Z"
   },
   {
    "duration": 282,
    "start_time": "2024-11-17T21:54:37.301Z"
   },
   {
    "duration": 0,
    "start_time": "2024-11-17T21:54:37.585Z"
   },
   {
    "duration": 0,
    "start_time": "2024-11-17T21:54:37.586Z"
   },
   {
    "duration": 0,
    "start_time": "2024-11-17T21:54:37.588Z"
   },
   {
    "duration": 0,
    "start_time": "2024-11-17T21:54:37.590Z"
   },
   {
    "duration": 0,
    "start_time": "2024-11-17T21:54:37.591Z"
   },
   {
    "duration": 0,
    "start_time": "2024-11-17T21:54:37.593Z"
   },
   {
    "duration": 0,
    "start_time": "2024-11-17T21:54:37.593Z"
   },
   {
    "duration": 0,
    "start_time": "2024-11-17T21:54:37.594Z"
   },
   {
    "duration": 0,
    "start_time": "2024-11-17T21:54:37.595Z"
   },
   {
    "duration": 0,
    "start_time": "2024-11-17T21:54:37.596Z"
   },
   {
    "duration": 0,
    "start_time": "2024-11-17T21:54:37.598Z"
   },
   {
    "duration": 0,
    "start_time": "2024-11-17T21:54:37.599Z"
   },
   {
    "duration": 0,
    "start_time": "2024-11-17T21:54:37.602Z"
   },
   {
    "duration": 0,
    "start_time": "2024-11-17T21:54:37.603Z"
   },
   {
    "duration": 0,
    "start_time": "2024-11-17T21:54:37.605Z"
   },
   {
    "duration": 859,
    "start_time": "2024-11-17T21:56:27.109Z"
   },
   {
    "duration": 6,
    "start_time": "2024-11-17T21:56:27.970Z"
   },
   {
    "duration": 9,
    "start_time": "2024-11-17T21:56:27.978Z"
   },
   {
    "duration": 5,
    "start_time": "2024-11-17T21:56:27.988Z"
   },
   {
    "duration": 9,
    "start_time": "2024-11-17T21:56:27.995Z"
   },
   {
    "duration": 2,
    "start_time": "2024-11-17T21:56:28.006Z"
   },
   {
    "duration": 7,
    "start_time": "2024-11-17T21:56:28.010Z"
   },
   {
    "duration": 9,
    "start_time": "2024-11-17T21:56:28.018Z"
   },
   {
    "duration": 2,
    "start_time": "2024-11-17T21:56:28.028Z"
   },
   {
    "duration": 4,
    "start_time": "2024-11-17T21:56:28.032Z"
   },
   {
    "duration": 4,
    "start_time": "2024-11-17T21:56:28.037Z"
   },
   {
    "duration": 4,
    "start_time": "2024-11-17T21:56:28.086Z"
   },
   {
    "duration": 3,
    "start_time": "2024-11-17T21:56:28.092Z"
   },
   {
    "duration": 2,
    "start_time": "2024-11-17T21:56:28.099Z"
   },
   {
    "duration": 8,
    "start_time": "2024-11-17T21:56:28.103Z"
   },
   {
    "duration": 9,
    "start_time": "2024-11-17T21:56:28.112Z"
   },
   {
    "duration": 10,
    "start_time": "2024-11-17T21:56:28.123Z"
   },
   {
    "duration": 6,
    "start_time": "2024-11-17T21:56:28.134Z"
   },
   {
    "duration": 45,
    "start_time": "2024-11-17T21:56:28.142Z"
   },
   {
    "duration": 10,
    "start_time": "2024-11-17T21:56:28.188Z"
   },
   {
    "duration": 7,
    "start_time": "2024-11-17T21:56:28.200Z"
   },
   {
    "duration": 4,
    "start_time": "2024-11-17T21:56:28.209Z"
   },
   {
    "duration": 4,
    "start_time": "2024-11-17T21:56:28.215Z"
   },
   {
    "duration": 4,
    "start_time": "2024-11-17T21:56:28.221Z"
   },
   {
    "duration": 5,
    "start_time": "2024-11-17T21:56:28.227Z"
   },
   {
    "duration": 6,
    "start_time": "2024-11-17T21:56:28.234Z"
   },
   {
    "duration": 259,
    "start_time": "2024-11-17T21:56:28.286Z"
   },
   {
    "duration": 0,
    "start_time": "2024-11-17T21:56:28.547Z"
   },
   {
    "duration": 0,
    "start_time": "2024-11-17T21:56:28.549Z"
   },
   {
    "duration": 0,
    "start_time": "2024-11-17T21:56:28.550Z"
   },
   {
    "duration": 0,
    "start_time": "2024-11-17T21:56:28.552Z"
   },
   {
    "duration": 0,
    "start_time": "2024-11-17T21:56:28.553Z"
   },
   {
    "duration": 0,
    "start_time": "2024-11-17T21:56:28.554Z"
   },
   {
    "duration": 0,
    "start_time": "2024-11-17T21:56:28.556Z"
   },
   {
    "duration": 0,
    "start_time": "2024-11-17T21:56:28.558Z"
   },
   {
    "duration": 0,
    "start_time": "2024-11-17T21:56:28.559Z"
   },
   {
    "duration": 0,
    "start_time": "2024-11-17T21:56:28.561Z"
   },
   {
    "duration": 0,
    "start_time": "2024-11-17T21:56:28.562Z"
   },
   {
    "duration": 1,
    "start_time": "2024-11-17T21:56:28.586Z"
   },
   {
    "duration": 0,
    "start_time": "2024-11-17T21:56:28.588Z"
   },
   {
    "duration": 0,
    "start_time": "2024-11-17T21:56:28.589Z"
   },
   {
    "duration": 14,
    "start_time": "2024-11-17T21:56:37.812Z"
   },
   {
    "duration": 6,
    "start_time": "2024-11-17T21:57:22.739Z"
   },
   {
    "duration": 820,
    "start_time": "2024-11-17T21:57:28.142Z"
   },
   {
    "duration": 6,
    "start_time": "2024-11-17T21:57:28.965Z"
   },
   {
    "duration": 4,
    "start_time": "2024-11-17T21:57:28.973Z"
   },
   {
    "duration": 10,
    "start_time": "2024-11-17T21:57:28.979Z"
   },
   {
    "duration": 8,
    "start_time": "2024-11-17T21:57:28.992Z"
   },
   {
    "duration": 2,
    "start_time": "2024-11-17T21:57:29.002Z"
   },
   {
    "duration": 7,
    "start_time": "2024-11-17T21:57:29.006Z"
   },
   {
    "duration": 8,
    "start_time": "2024-11-17T21:57:29.015Z"
   },
   {
    "duration": 2,
    "start_time": "2024-11-17T21:57:29.025Z"
   },
   {
    "duration": 3,
    "start_time": "2024-11-17T21:57:29.029Z"
   },
   {
    "duration": 4,
    "start_time": "2024-11-17T21:57:29.034Z"
   },
   {
    "duration": 47,
    "start_time": "2024-11-17T21:57:29.040Z"
   },
   {
    "duration": 3,
    "start_time": "2024-11-17T21:57:29.090Z"
   },
   {
    "duration": 3,
    "start_time": "2024-11-17T21:57:29.098Z"
   },
   {
    "duration": 10,
    "start_time": "2024-11-17T21:57:29.104Z"
   },
   {
    "duration": 8,
    "start_time": "2024-11-17T21:57:29.116Z"
   },
   {
    "duration": 8,
    "start_time": "2024-11-17T21:57:29.125Z"
   },
   {
    "duration": 5,
    "start_time": "2024-11-17T21:57:29.135Z"
   },
   {
    "duration": 8,
    "start_time": "2024-11-17T21:57:29.141Z"
   },
   {
    "duration": 41,
    "start_time": "2024-11-17T21:57:29.150Z"
   },
   {
    "duration": 8,
    "start_time": "2024-11-17T21:57:29.193Z"
   },
   {
    "duration": 4,
    "start_time": "2024-11-17T21:57:29.203Z"
   },
   {
    "duration": 5,
    "start_time": "2024-11-17T21:57:29.208Z"
   },
   {
    "duration": 6,
    "start_time": "2024-11-17T21:57:29.214Z"
   },
   {
    "duration": 5,
    "start_time": "2024-11-17T21:57:29.222Z"
   },
   {
    "duration": 6,
    "start_time": "2024-11-17T21:57:29.228Z"
   },
   {
    "duration": 50,
    "start_time": "2024-11-17T21:57:29.237Z"
   },
   {
    "duration": 7,
    "start_time": "2024-11-17T21:57:29.289Z"
   },
   {
    "duration": 3,
    "start_time": "2024-11-17T21:57:29.297Z"
   },
   {
    "duration": 225,
    "start_time": "2024-11-17T21:57:29.302Z"
   },
   {
    "duration": 2,
    "start_time": "2024-11-17T21:57:29.529Z"
   },
   {
    "duration": 162,
    "start_time": "2024-11-17T21:57:29.533Z"
   },
   {
    "duration": 2,
    "start_time": "2024-11-17T21:57:29.697Z"
   },
   {
    "duration": 2,
    "start_time": "2024-11-17T21:57:29.701Z"
   },
   {
    "duration": 5,
    "start_time": "2024-11-17T21:57:29.705Z"
   },
   {
    "duration": 286,
    "start_time": "2024-11-17T21:57:29.712Z"
   },
   {
    "duration": 0,
    "start_time": "2024-11-17T21:57:30.000Z"
   },
   {
    "duration": 0,
    "start_time": "2024-11-17T21:57:30.001Z"
   },
   {
    "duration": 0,
    "start_time": "2024-11-17T21:57:30.002Z"
   },
   {
    "duration": 0,
    "start_time": "2024-11-17T21:57:30.003Z"
   },
   {
    "duration": 0,
    "start_time": "2024-11-17T21:57:30.004Z"
   },
   {
    "duration": 10,
    "start_time": "2024-11-17T21:57:50.334Z"
   },
   {
    "duration": 4,
    "start_time": "2024-11-17T21:57:52.374Z"
   },
   {
    "duration": 4,
    "start_time": "2024-11-17T21:57:54.624Z"
   },
   {
    "duration": 5,
    "start_time": "2024-11-17T21:57:56.580Z"
   },
   {
    "duration": 3,
    "start_time": "2024-11-17T21:57:59.083Z"
   },
   {
    "duration": 4,
    "start_time": "2024-11-17T21:58:00.609Z"
   },
   {
    "duration": 6,
    "start_time": "2024-11-17T22:44:41.944Z"
   },
   {
    "duration": 2476,
    "start_time": "2024-11-18T07:18:40.279Z"
   },
   {
    "duration": 10,
    "start_time": "2024-11-18T07:18:42.757Z"
   },
   {
    "duration": 8,
    "start_time": "2024-11-18T07:18:42.768Z"
   },
   {
    "duration": 9,
    "start_time": "2024-11-18T07:18:42.777Z"
   },
   {
    "duration": 9,
    "start_time": "2024-11-18T07:18:42.787Z"
   },
   {
    "duration": 2,
    "start_time": "2024-11-18T07:18:42.798Z"
   },
   {
    "duration": 23,
    "start_time": "2024-11-18T07:18:42.802Z"
   },
   {
    "duration": 7,
    "start_time": "2024-11-18T07:18:42.827Z"
   },
   {
    "duration": 2,
    "start_time": "2024-11-18T07:18:42.836Z"
   },
   {
    "duration": 3,
    "start_time": "2024-11-18T07:18:42.842Z"
   },
   {
    "duration": 5,
    "start_time": "2024-11-18T07:18:42.847Z"
   },
   {
    "duration": 3,
    "start_time": "2024-11-18T07:18:42.853Z"
   },
   {
    "duration": 3,
    "start_time": "2024-11-18T07:18:42.858Z"
   },
   {
    "duration": 4,
    "start_time": "2024-11-18T07:18:42.862Z"
   },
   {
    "duration": 8,
    "start_time": "2024-11-18T07:18:42.867Z"
   },
   {
    "duration": 52,
    "start_time": "2024-11-18T07:18:42.877Z"
   },
   {
    "duration": 7,
    "start_time": "2024-11-18T07:18:42.930Z"
   },
   {
    "duration": 5,
    "start_time": "2024-11-18T07:18:42.940Z"
   },
   {
    "duration": 7,
    "start_time": "2024-11-18T07:18:42.948Z"
   },
   {
    "duration": 8,
    "start_time": "2024-11-18T07:18:42.957Z"
   },
   {
    "duration": 8,
    "start_time": "2024-11-18T07:18:42.967Z"
   },
   {
    "duration": 4,
    "start_time": "2024-11-18T07:18:42.977Z"
   },
   {
    "duration": 42,
    "start_time": "2024-11-18T07:18:42.983Z"
   },
   {
    "duration": 4,
    "start_time": "2024-11-18T07:18:43.026Z"
   },
   {
    "duration": 6,
    "start_time": "2024-11-18T07:18:43.032Z"
   },
   {
    "duration": 6,
    "start_time": "2024-11-18T07:18:43.039Z"
   },
   {
    "duration": 4,
    "start_time": "2024-11-18T07:18:43.047Z"
   },
   {
    "duration": 2,
    "start_time": "2024-11-18T07:18:43.056Z"
   },
   {
    "duration": 240,
    "start_time": "2024-11-18T07:18:43.060Z"
   },
   {
    "duration": 7,
    "start_time": "2024-11-18T07:18:43.302Z"
   },
   {
    "duration": 2,
    "start_time": "2024-11-18T07:18:43.312Z"
   },
   {
    "duration": 10,
    "start_time": "2024-11-18T07:18:43.316Z"
   },
   {
    "duration": 0,
    "start_time": "2024-11-18T07:18:43.327Z"
   },
   {
    "duration": 0,
    "start_time": "2024-11-18T07:18:43.328Z"
   },
   {
    "duration": 0,
    "start_time": "2024-11-18T07:18:43.329Z"
   },
   {
    "duration": 0,
    "start_time": "2024-11-18T07:18:43.330Z"
   },
   {
    "duration": 0,
    "start_time": "2024-11-18T07:18:43.332Z"
   },
   {
    "duration": 0,
    "start_time": "2024-11-18T07:18:43.333Z"
   },
   {
    "duration": 0,
    "start_time": "2024-11-18T07:18:43.335Z"
   },
   {
    "duration": 0,
    "start_time": "2024-11-18T07:18:43.336Z"
   },
   {
    "duration": 565,
    "start_time": "2024-11-18T07:33:28.318Z"
   },
   {
    "duration": 3,
    "start_time": "2024-11-18T07:33:50.047Z"
   },
   {
    "duration": 72,
    "start_time": "2024-11-18T07:33:51.281Z"
   },
   {
    "duration": 165,
    "start_time": "2024-11-18T07:34:18.223Z"
   },
   {
    "duration": 796,
    "start_time": "2024-11-18T07:54:15.293Z"
   },
   {
    "duration": 9,
    "start_time": "2024-11-18T07:54:16.091Z"
   },
   {
    "duration": 26,
    "start_time": "2024-11-18T07:54:16.101Z"
   },
   {
    "duration": 6,
    "start_time": "2024-11-18T07:54:16.128Z"
   },
   {
    "duration": 9,
    "start_time": "2024-11-18T07:54:16.136Z"
   },
   {
    "duration": 3,
    "start_time": "2024-11-18T07:54:16.146Z"
   },
   {
    "duration": 8,
    "start_time": "2024-11-18T07:54:16.150Z"
   },
   {
    "duration": 7,
    "start_time": "2024-11-18T07:54:16.160Z"
   },
   {
    "duration": 2,
    "start_time": "2024-11-18T07:54:16.169Z"
   },
   {
    "duration": 4,
    "start_time": "2024-11-18T07:54:16.173Z"
   },
   {
    "duration": 3,
    "start_time": "2024-11-18T07:54:16.179Z"
   },
   {
    "duration": 41,
    "start_time": "2024-11-18T07:54:16.183Z"
   },
   {
    "duration": 3,
    "start_time": "2024-11-18T07:54:16.225Z"
   },
   {
    "duration": 2,
    "start_time": "2024-11-18T07:54:16.232Z"
   },
   {
    "duration": 9,
    "start_time": "2024-11-18T07:54:16.236Z"
   },
   {
    "duration": 7,
    "start_time": "2024-11-18T07:54:16.247Z"
   },
   {
    "duration": 8,
    "start_time": "2024-11-18T07:54:16.256Z"
   },
   {
    "duration": 5,
    "start_time": "2024-11-18T07:54:16.266Z"
   },
   {
    "duration": 53,
    "start_time": "2024-11-18T07:54:16.272Z"
   },
   {
    "duration": 8,
    "start_time": "2024-11-18T07:54:16.327Z"
   },
   {
    "duration": 8,
    "start_time": "2024-11-18T07:54:16.336Z"
   },
   {
    "duration": 5,
    "start_time": "2024-11-18T07:54:16.345Z"
   },
   {
    "duration": 4,
    "start_time": "2024-11-18T07:54:16.352Z"
   },
   {
    "duration": 4,
    "start_time": "2024-11-18T07:54:16.358Z"
   },
   {
    "duration": 5,
    "start_time": "2024-11-18T07:54:16.364Z"
   },
   {
    "duration": 10,
    "start_time": "2024-11-18T07:54:16.371Z"
   },
   {
    "duration": 43,
    "start_time": "2024-11-18T07:54:16.382Z"
   },
   {
    "duration": 3,
    "start_time": "2024-11-18T07:54:16.427Z"
   },
   {
    "duration": 233,
    "start_time": "2024-11-18T07:54:16.431Z"
   },
   {
    "duration": 7,
    "start_time": "2024-11-18T07:54:16.666Z"
   },
   {
    "duration": 3,
    "start_time": "2024-11-18T07:54:16.674Z"
   },
   {
    "duration": 159,
    "start_time": "2024-11-18T07:54:16.679Z"
   },
   {
    "duration": 5,
    "start_time": "2024-11-18T07:54:16.839Z"
   },
   {
    "duration": 10,
    "start_time": "2024-11-18T07:54:16.846Z"
   },
   {
    "duration": 4,
    "start_time": "2024-11-18T07:54:16.858Z"
   },
   {
    "duration": 5,
    "start_time": "2024-11-18T07:54:16.863Z"
   },
   {
    "duration": 4,
    "start_time": "2024-11-18T07:54:16.869Z"
   },
   {
    "duration": 4,
    "start_time": "2024-11-18T07:54:16.874Z"
   },
   {
    "duration": 44,
    "start_time": "2024-11-18T07:54:16.880Z"
   },
   {
    "duration": 2508,
    "start_time": "2024-11-18T09:29:11.710Z"
   },
   {
    "duration": 8,
    "start_time": "2024-11-18T09:29:14.221Z"
   },
   {
    "duration": 6,
    "start_time": "2024-11-18T09:29:14.231Z"
   },
   {
    "duration": 7,
    "start_time": "2024-11-18T09:29:14.238Z"
   },
   {
    "duration": 10,
    "start_time": "2024-11-18T09:29:14.247Z"
   },
   {
    "duration": 12,
    "start_time": "2024-11-18T09:29:14.258Z"
   },
   {
    "duration": 8,
    "start_time": "2024-11-18T09:29:14.286Z"
   },
   {
    "duration": 3,
    "start_time": "2024-11-18T09:29:14.295Z"
   },
   {
    "duration": 3,
    "start_time": "2024-11-18T09:29:14.300Z"
   },
   {
    "duration": 3,
    "start_time": "2024-11-18T09:29:14.305Z"
   },
   {
    "duration": 3,
    "start_time": "2024-11-18T09:29:14.310Z"
   },
   {
    "duration": 3,
    "start_time": "2024-11-18T09:29:14.315Z"
   },
   {
    "duration": 8,
    "start_time": "2024-11-18T09:29:14.320Z"
   },
   {
    "duration": 7,
    "start_time": "2024-11-18T09:29:14.333Z"
   },
   {
    "duration": 9,
    "start_time": "2024-11-18T09:29:14.387Z"
   },
   {
    "duration": 5,
    "start_time": "2024-11-18T09:29:14.397Z"
   },
   {
    "duration": 8,
    "start_time": "2024-11-18T09:29:14.403Z"
   },
   {
    "duration": 9,
    "start_time": "2024-11-18T09:29:14.413Z"
   },
   {
    "duration": 9,
    "start_time": "2024-11-18T09:29:14.423Z"
   },
   {
    "duration": 5,
    "start_time": "2024-11-18T09:29:14.433Z"
   },
   {
    "duration": 48,
    "start_time": "2024-11-18T09:29:14.439Z"
   },
   {
    "duration": 4,
    "start_time": "2024-11-18T09:29:14.489Z"
   },
   {
    "duration": 4,
    "start_time": "2024-11-18T09:29:14.495Z"
   },
   {
    "duration": 6,
    "start_time": "2024-11-18T09:29:14.501Z"
   },
   {
    "duration": 5,
    "start_time": "2024-11-18T09:29:14.509Z"
   },
   {
    "duration": 3,
    "start_time": "2024-11-18T09:29:14.515Z"
   },
   {
    "duration": 243,
    "start_time": "2024-11-18T09:29:14.520Z"
   },
   {
    "duration": 6,
    "start_time": "2024-11-18T09:29:14.765Z"
   },
   {
    "duration": 2,
    "start_time": "2024-11-18T09:29:14.773Z"
   },
   {
    "duration": 152,
    "start_time": "2024-11-18T09:29:14.777Z"
   },
   {
    "duration": 5,
    "start_time": "2024-11-18T09:29:14.932Z"
   },
   {
    "duration": 10,
    "start_time": "2024-11-18T09:29:14.938Z"
   },
   {
    "duration": 5,
    "start_time": "2024-11-18T09:29:14.950Z"
   },
   {
    "duration": 4,
    "start_time": "2024-11-18T09:29:14.956Z"
   },
   {
    "duration": 5,
    "start_time": "2024-11-18T09:29:14.986Z"
   },
   {
    "duration": 4,
    "start_time": "2024-11-18T09:29:14.993Z"
   },
   {
    "duration": 4,
    "start_time": "2024-11-18T09:29:14.998Z"
   },
   {
    "duration": 3,
    "start_time": "2024-11-18T09:52:14.999Z"
   },
   {
    "duration": 2,
    "start_time": "2024-11-18T09:52:29.479Z"
   },
   {
    "duration": 2,
    "start_time": "2024-11-18T09:52:53.444Z"
   },
   {
    "duration": 3,
    "start_time": "2024-11-18T09:52:54.878Z"
   },
   {
    "duration": 5,
    "start_time": "2024-11-18T09:52:55.927Z"
   },
   {
    "duration": 1046,
    "start_time": "2024-11-18T09:58:00.402Z"
   },
   {
    "duration": 203,
    "start_time": "2024-11-18T09:58:13.103Z"
   },
   {
    "duration": 182,
    "start_time": "2024-11-18T09:58:41.735Z"
   },
   {
    "duration": 175,
    "start_time": "2024-11-18T09:59:23.202Z"
   },
   {
    "duration": 133,
    "start_time": "2024-11-18T09:59:45.677Z"
   },
   {
    "duration": 41,
    "start_time": "2024-11-18T09:59:50.900Z"
   },
   {
    "duration": 128,
    "start_time": "2024-11-18T10:01:02.925Z"
   },
   {
    "duration": 179,
    "start_time": "2024-11-18T10:01:20.351Z"
   },
   {
    "duration": 39,
    "start_time": "2024-11-18T10:01:39.807Z"
   },
   {
    "duration": 178,
    "start_time": "2024-11-18T10:01:58.774Z"
   },
   {
    "duration": 172,
    "start_time": "2024-11-18T10:02:11.738Z"
   },
   {
    "duration": 40,
    "start_time": "2024-11-18T10:02:26.476Z"
   },
   {
    "duration": 336,
    "start_time": "2024-11-18T10:02:50.352Z"
   },
   {
    "duration": 173,
    "start_time": "2024-11-18T10:03:06.526Z"
   },
   {
    "duration": 40,
    "start_time": "2024-11-18T10:04:10.192Z"
   },
   {
    "duration": 166,
    "start_time": "2024-11-18T10:04:50.809Z"
   },
   {
    "duration": 171,
    "start_time": "2024-11-18T10:05:23.367Z"
   },
   {
    "duration": 166,
    "start_time": "2024-11-18T10:05:33.750Z"
   },
   {
    "duration": 172,
    "start_time": "2024-11-18T10:06:00.447Z"
   }
  ],
  "kernelspec": {
   "display_name": "base",
   "language": "python",
   "name": "python3"
  },
  "language_info": {
   "codemirror_mode": {
    "name": "ipython",
    "version": 3
   },
   "file_extension": ".py",
   "mimetype": "text/x-python",
   "name": "python",
   "nbconvert_exporter": "python",
   "pygments_lexer": "ipython3",
   "version": "3.12.4"
  },
  "toc": {
   "base_numbering": 1,
   "nav_menu": {},
   "number_sections": true,
   "sideBar": true,
   "skip_h1_title": true,
   "title_cell": "Table of Contents",
   "title_sidebar": "Contents",
   "toc_cell": false,
   "toc_position": {},
   "toc_section_display": true,
   "toc_window_display": false
  }
 },
 "nbformat": 4,
 "nbformat_minor": 2
}
